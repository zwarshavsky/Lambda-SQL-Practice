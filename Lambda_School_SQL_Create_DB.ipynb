{
 "cells": [
  {
   "cell_type": "markdown",
   "metadata": {
    "colab_type": "text",
    "id": "view-in-github"
   },
   "source": [
    "<a href=\"https://colab.research.google.com/github/mkirby1995/Lambda-SQL-Practice/blob/master/Lambda_School_SQL_Create_DB.ipynb\" target=\"_parent\"><img src=\"https://colab.research.google.com/assets/colab-badge.svg\" alt=\"Open In Colab\"/></a>"
   ]
  },
  {
   "cell_type": "code",
   "execution_count": 5,
   "metadata": {
    "colab": {
     "base_uri": "https://localhost:8080/",
     "height": 73
    },
    "colab_type": "code",
    "id": "lbsl1R9PH5Pl",
    "outputId": "4f932dba-20f3-4566-d3ca-e519d27daae9"
   },
   "outputs": [
    {
     "ename": "ModuleNotFoundError",
     "evalue": "No module named 'psycopg2'",
     "output_type": "error",
     "traceback": [
      "\u001b[0;31m---------------------------------------------------------------------------\u001b[0m",
      "\u001b[0;31mModuleNotFoundError\u001b[0m                       Traceback (most recent call last)",
      "\u001b[0;32m<ipython-input-5-8a47d177d8b2>\u001b[0m in \u001b[0;36m<module>\u001b[0;34m\u001b[0m\n\u001b[1;32m      2\u001b[0m \u001b[0;32mimport\u001b[0m \u001b[0mnumpy\u001b[0m \u001b[0;32mas\u001b[0m \u001b[0mnp\u001b[0m\u001b[0;34m\u001b[0m\u001b[0;34m\u001b[0m\u001b[0m\n\u001b[1;32m      3\u001b[0m \u001b[0;34m\u001b[0m\u001b[0m\n\u001b[0;32m----> 4\u001b[0;31m \u001b[0;32mimport\u001b[0m \u001b[0mpsycopg2\u001b[0m\u001b[0;34m\u001b[0m\u001b[0;34m\u001b[0m\u001b[0m\n\u001b[0m\u001b[1;32m      5\u001b[0m \u001b[0;32mimport\u001b[0m \u001b[0msqlite3\u001b[0m\u001b[0;34m\u001b[0m\u001b[0;34m\u001b[0m\u001b[0m\n\u001b[1;32m      6\u001b[0m \u001b[0;32mfrom\u001b[0m \u001b[0msqlalchemy\u001b[0m \u001b[0;32mimport\u001b[0m \u001b[0mcreate_engine\u001b[0m\u001b[0;34m\u001b[0m\u001b[0;34m\u001b[0m\u001b[0m\n",
      "\u001b[0;31mModuleNotFoundError\u001b[0m: No module named 'psycopg2'"
     ]
    }
   ],
   "source": [
    "import pandas as pd\n",
    "import numpy as np\n",
    "\n",
    "import psycopg2\n",
    "import sqlite3\n",
    "from sqlalchemy import create_engine"
   ]
  },
  {
   "cell_type": "code",
   "execution_count": 3,
   "metadata": {
    "colab": {
     "base_uri": "https://localhost:8080/",
     "height": 35
    },
    "colab_type": "code",
    "id": "_4ZH10BbjG5u",
    "outputId": "56979553-e938-4607-ef33-85e75ee7eb79"
   },
   "outputs": [
    {
     "data": {
      "text/plain": [
       "'3.22.0'"
      ]
     },
     "execution_count": 3,
     "metadata": {
      "tags": []
     },
     "output_type": "execute_result"
    }
   ],
   "source": [
    "sqlite3.sqlite_version"
   ]
  },
  {
   "cell_type": "markdown",
   "metadata": {
    "colab_type": "text",
    "id": "_8aJEx1nIyRw"
   },
   "source": [
    "# Write SQL Helper Classes"
   ]
  },
  {
   "cell_type": "code",
   "execution_count": null,
   "metadata": {
    "colab": {},
    "colab_type": "code",
    "id": "-U145XzYsgsa"
   },
   "outputs": [],
   "source": [
    "class Sqllite_helper:\n",
    "\n",
    "    def __init__(self):\n",
    "        self.conn = sqlite3.connect(\"\"\"/content/lambda_challenge_db.sqlite3\"\"\")\n",
    "\n",
    "\n",
    "    def create_table(self, schema, dataframe, table_name):\n",
    "        curs = self.conn.cursor()\n",
    "        curs.execute(schema)\n",
    "\n",
    "        def force_type(x):\n",
    "            if type(x) != str:\n",
    "                return str(x)\n",
    "            else:\n",
    "              return x\n",
    "\n",
    "        values_to_insert = []\n",
    "\n",
    "        for i in dataframe.values:\n",
    "            i = i.tolist()\n",
    "            i = map(force_type, i)\n",
    "            values_to_insert.append('(' + ', '.join(i) + ')')\n",
    "\n",
    "        for row in values_to_insert:\n",
    "            inset_statement = \"INSERT INTO \" + table_name + ' VALUES' + row\n",
    "\n",
    "            curs.execute(inset_statement)\n",
    "        self.conn.commit()"
   ]
  },
  {
   "cell_type": "markdown",
   "metadata": {
    "colab_type": "text",
    "id": "TEaakf20Pz2m"
   },
   "source": [
    "\n",
    "\n",
    "---\n",
    "\n"
   ]
  },
  {
   "cell_type": "markdown",
   "metadata": {
    "colab_type": "text",
    "id": "XR49j1zvItTC"
   },
   "source": [
    "# Create DataFrames"
   ]
  },
  {
   "cell_type": "markdown",
   "metadata": {
    "colab_type": "text",
    "id": "EmXYvU-wWsB4"
   },
   "source": [
    "## Branch \n",
    "- Branch ID\n",
    "- Location"
   ]
  },
  {
   "cell_type": "code",
   "execution_count": null,
   "metadata": {
    "colab": {},
    "colab_type": "code",
    "id": "yoWWnjnnW6rH"
   },
   "outputs": [],
   "source": [
    "branch_ids = ['\\\"001\\\"', '\\\"002\\\"', '\\\"003\\\"', '\\\"004\\\"', '\\\"005\\\"', '\\\"006\\\"', '\\\"007\\\"']\n",
    "\n",
    "locations = ['\\\"Pacific_NW\\\"', '\\\"California\\\"', '\\\"West\\\"', '\\\"Texas_and_Southwest\\\"',\n",
    "             '\\\"South\\\"', '\\\"Midwest_and_Plains\\\"', '\\\"Northeast\\\"']"
   ]
  },
  {
   "cell_type": "code",
   "execution_count": 7,
   "metadata": {
    "colab": {
     "base_uri": "https://localhost:8080/",
     "height": 204
    },
    "colab_type": "code",
    "id": "U7mW0Je5YjLx",
    "outputId": "1bcf934e-3c06-48d2-bf12-507df2e0f2e1"
   },
   "outputs": [
    {
     "data": {
      "text/html": [
       "<div>\n",
       "<style scoped>\n",
       "    .dataframe tbody tr th:only-of-type {\n",
       "        vertical-align: middle;\n",
       "    }\n",
       "\n",
       "    .dataframe tbody tr th {\n",
       "        vertical-align: top;\n",
       "    }\n",
       "\n",
       "    .dataframe thead th {\n",
       "        text-align: right;\n",
       "    }\n",
       "</style>\n",
       "<table border=\"1\" class=\"dataframe\">\n",
       "  <thead>\n",
       "    <tr style=\"text-align: right;\">\n",
       "      <th></th>\n",
       "      <th>branch_id</th>\n",
       "      <th>location</th>\n",
       "    </tr>\n",
       "  </thead>\n",
       "  <tbody>\n",
       "    <tr>\n",
       "      <th>0</th>\n",
       "      <td>\"001\"</td>\n",
       "      <td>\"Pacific_NW\"</td>\n",
       "    </tr>\n",
       "    <tr>\n",
       "      <th>1</th>\n",
       "      <td>\"002\"</td>\n",
       "      <td>\"California\"</td>\n",
       "    </tr>\n",
       "    <tr>\n",
       "      <th>2</th>\n",
       "      <td>\"003\"</td>\n",
       "      <td>\"West\"</td>\n",
       "    </tr>\n",
       "    <tr>\n",
       "      <th>3</th>\n",
       "      <td>\"004\"</td>\n",
       "      <td>\"Texas_and_Southwest\"</td>\n",
       "    </tr>\n",
       "    <tr>\n",
       "      <th>4</th>\n",
       "      <td>\"005\"</td>\n",
       "      <td>\"South\"</td>\n",
       "    </tr>\n",
       "  </tbody>\n",
       "</table>\n",
       "</div>"
      ],
      "text/plain": [
       "  branch_id               location\n",
       "0     \"001\"           \"Pacific_NW\"\n",
       "1     \"002\"           \"California\"\n",
       "2     \"003\"                 \"West\"\n",
       "3     \"004\"  \"Texas_and_Southwest\"\n",
       "4     \"005\"                \"South\""
      ]
     },
     "execution_count": 7,
     "metadata": {
      "tags": []
     },
     "output_type": "execute_result"
    }
   ],
   "source": [
    "branch = pd.DataFrame({\n",
    "                       'branch_id': branch_ids,\n",
    "                       'location': locations\n",
    "                      })\n",
    "branch.head()"
   ]
  },
  {
   "cell_type": "code",
   "execution_count": 8,
   "metadata": {
    "colab": {
     "base_uri": "https://localhost:8080/",
     "height": 107
    },
    "colab_type": "code",
    "id": "tAuXm7e9ISjg",
    "outputId": "4ccd40ab-6bee-4722-bfde-22ebdf1f6f69"
   },
   "outputs": [
    {
     "name": "stdout",
     "output_type": "stream",
     "text": [
      "CREATE TABLE \"Branch\" (\n",
      "\"index\" INTEGER,\n",
      "  \"branch_id\" TEXT,\n",
      "  \"location\" TEXT\n",
      ")\n"
     ]
    }
   ],
   "source": [
    "print(pd.io.sql.get_schema(branch.reset_index(), 'Branch'))"
   ]
  },
  {
   "cell_type": "code",
   "execution_count": null,
   "metadata": {
    "colab": {},
    "colab_type": "code",
    "id": "j6IYALb3Q25O"
   },
   "outputs": [],
   "source": [
    "branch_schema = \"\"\"\n",
    "CREATE TABLE Branch (\n",
    "    \"branch_id\" TEXT,\n",
    "    \"location\" TEXT,\n",
    "    PRIMARY KEY (branch_id)\n",
    ");\n",
    "\"\"\""
   ]
  },
  {
   "cell_type": "markdown",
   "metadata": {
    "colab_type": "text",
    "id": "sRqH0sDvHN76"
   },
   "source": [
    "\n",
    "\n",
    "---\n",
    "\n"
   ]
  },
  {
   "cell_type": "markdown",
   "metadata": {
    "colab_type": "text",
    "id": "XqAbq2bRWlpS"
   },
   "source": [
    "## Headquarters\n",
    "- Headquarters ID\n",
    "- Headquarters City\n",
    "- Branch ID"
   ]
  },
  {
   "cell_type": "code",
   "execution_count": null,
   "metadata": {
    "colab": {},
    "colab_type": "code",
    "id": "O5xZ_MqFXhfh"
   },
   "outputs": [],
   "source": [
    "headquarters_ids = ['\\\"011\\\"', '\\\"021\\\"', '\\\"031\\\"', '\\\"041\\\"', '\\\"051\\\"',\n",
    "                    '\\\"061\\\"', '\\\"071\\\"']\n",
    "                    \n",
    "headquarters_city = ['\\\"Seattle\\\"', '\\\"Los_Angeles\\\"', '\\\"Denver\\\"',\n",
    "                     '\\\"Dallas\\\"', '\\\"Atlanta\\\"', '\\\"Chicago\\\"', '\\\"New_York\\\"']\n",
    "# Key branch_ids"
   ]
  },
  {
   "cell_type": "code",
   "execution_count": 11,
   "metadata": {
    "colab": {
     "base_uri": "https://localhost:8080/",
     "height": 204
    },
    "colab_type": "code",
    "id": "tHax5YEuZd4r",
    "outputId": "ef56ba97-8f7c-4b37-e0a8-6818fb60777e"
   },
   "outputs": [
    {
     "data": {
      "text/html": [
       "<div>\n",
       "<style scoped>\n",
       "    .dataframe tbody tr th:only-of-type {\n",
       "        vertical-align: middle;\n",
       "    }\n",
       "\n",
       "    .dataframe tbody tr th {\n",
       "        vertical-align: top;\n",
       "    }\n",
       "\n",
       "    .dataframe thead th {\n",
       "        text-align: right;\n",
       "    }\n",
       "</style>\n",
       "<table border=\"1\" class=\"dataframe\">\n",
       "  <thead>\n",
       "    <tr style=\"text-align: right;\">\n",
       "      <th></th>\n",
       "      <th>headquarters_id</th>\n",
       "      <th>headquarters_city</th>\n",
       "      <th>branch_id</th>\n",
       "    </tr>\n",
       "  </thead>\n",
       "  <tbody>\n",
       "    <tr>\n",
       "      <th>0</th>\n",
       "      <td>\"011\"</td>\n",
       "      <td>\"Pacific_NW\"</td>\n",
       "      <td>\"001\"</td>\n",
       "    </tr>\n",
       "    <tr>\n",
       "      <th>1</th>\n",
       "      <td>\"021\"</td>\n",
       "      <td>\"California\"</td>\n",
       "      <td>\"002\"</td>\n",
       "    </tr>\n",
       "    <tr>\n",
       "      <th>2</th>\n",
       "      <td>\"031\"</td>\n",
       "      <td>\"West\"</td>\n",
       "      <td>\"003\"</td>\n",
       "    </tr>\n",
       "    <tr>\n",
       "      <th>3</th>\n",
       "      <td>\"041\"</td>\n",
       "      <td>\"Texas_and_Southwest\"</td>\n",
       "      <td>\"004\"</td>\n",
       "    </tr>\n",
       "    <tr>\n",
       "      <th>4</th>\n",
       "      <td>\"051\"</td>\n",
       "      <td>\"South\"</td>\n",
       "      <td>\"005\"</td>\n",
       "    </tr>\n",
       "  </tbody>\n",
       "</table>\n",
       "</div>"
      ],
      "text/plain": [
       "  headquarters_id      headquarters_city branch_id\n",
       "0           \"011\"           \"Pacific_NW\"     \"001\"\n",
       "1           \"021\"           \"California\"     \"002\"\n",
       "2           \"031\"                 \"West\"     \"003\"\n",
       "3           \"041\"  \"Texas_and_Southwest\"     \"004\"\n",
       "4           \"051\"                \"South\"     \"005\""
      ]
     },
     "execution_count": 11,
     "metadata": {
      "tags": []
     },
     "output_type": "execute_result"
    }
   ],
   "source": [
    "headquarters = pd.DataFrame({\n",
    "                       'headquarters_id': headquarters_ids,\n",
    "                       'headquarters_city': locations,\n",
    "                       'branch_id': branch_ids,\n",
    "                      })\n",
    "headquarters.head()"
   ]
  },
  {
   "cell_type": "code",
   "execution_count": 12,
   "metadata": {
    "colab": {
     "base_uri": "https://localhost:8080/",
     "height": 125
    },
    "colab_type": "code",
    "id": "tHFYouvTRJ-a",
    "outputId": "8e420b21-2123-40fd-8698-0a09895069df"
   },
   "outputs": [
    {
     "name": "stdout",
     "output_type": "stream",
     "text": [
      "CREATE TABLE \"Headquarters\" (\n",
      "\"index\" INTEGER,\n",
      "  \"headquarters_id\" TEXT,\n",
      "  \"headquarters_city\" TEXT,\n",
      "  \"branch_id\" TEXT\n",
      ")\n"
     ]
    }
   ],
   "source": [
    "print(pd.io.sql.get_schema(headquarters.reset_index(), 'Headquarters'))"
   ]
  },
  {
   "cell_type": "code",
   "execution_count": null,
   "metadata": {
    "colab": {},
    "colab_type": "code",
    "id": "l5o0t5f7WU4m"
   },
   "outputs": [],
   "source": [
    "headquarters_schema = \"\"\"\n",
    "CREATE TABLE Headquarters (\n",
    "    \"headquarters_id\" TEXT,\n",
    "    \"headquarters_city\" TEXT,\n",
    "    \"branch_id\" TEXT ,\n",
    "    PRIMARY KEY (headquarters_id),\n",
    "    FOREIGN KEY (branch_id)\n",
    "        REFERENCES Branch (branch_id)\n",
    ");\n",
    "\"\"\""
   ]
  },
  {
   "cell_type": "markdown",
   "metadata": {
    "colab_type": "text",
    "id": "aongH6WMHPLS"
   },
   "source": [
    "\n",
    "\n",
    "---\n",
    "\n"
   ]
  },
  {
   "cell_type": "markdown",
   "metadata": {
    "colab_type": "text",
    "id": "Jzyau9u7WdVF"
   },
   "source": [
    "## Order\n",
    "- Order ID\n",
    "- Order Date\n",
    "- Headquarters ID"
   ]
  },
  {
   "cell_type": "code",
   "execution_count": null,
   "metadata": {
    "colab": {},
    "colab_type": "code",
    "id": "qSdkJs5WeaiN"
   },
   "outputs": [],
   "source": [
    "from random import randrange\n",
    "from datetime import timedelta\n",
    "from datetime import datetime\n",
    "\n",
    "\n",
    "def random_date(start, end):\n",
    "    \"\"\"\n",
    "    This function will return a random datetime between two datetime \n",
    "    objects.\n",
    "    \"\"\"\n",
    "    delta = end - start\n",
    "    int_delta = (delta.days * 24 * 60 * 60) + delta.seconds\n",
    "    random_second = randrange(int_delta)\n",
    "    return start + timedelta(seconds=random_second)\n",
    "\n",
    "\n",
    "d1 = datetime.strptime('1/1/2000 1:30 PM', '%m/%d/%Y %I:%M %p')\n",
    "d2 = datetime.strptime('1/1/2018 4:50 AM', '%m/%d/%Y %I:%M %p')"
   ]
  },
  {
   "cell_type": "code",
   "execution_count": null,
   "metadata": {
    "colab": {},
    "colab_type": "code",
    "id": "0kA4HwVDYUiD"
   },
   "outputs": [],
   "source": [
    "# 10000 orders\n",
    "order_ids = list(range(0, 10001))\n",
    "order_dates = [random_date(d1, d2) for i in range(len(order_ids))]\n",
    "headquarters_ids = [np.random.choice(headquarters_ids) for i in range(len(order_ids))]"
   ]
  },
  {
   "cell_type": "code",
   "execution_count": null,
   "metadata": {
    "colab": {},
    "colab_type": "code",
    "id": "q_3fSuiretOo"
   },
   "outputs": [],
   "source": [
    "orders = pd.DataFrame({\n",
    "                       'order_id': order_ids,\n",
    "                       'order_date': order_dates,\n",
    "                       'headquarters_id': headquarters_ids,\n",
    "                      })"
   ]
  },
  {
   "cell_type": "code",
   "execution_count": 17,
   "metadata": {
    "colab": {
     "base_uri": "https://localhost:8080/",
     "height": 204
    },
    "colab_type": "code",
    "id": "-NdxBl87Mw7O",
    "outputId": "29204f61-cc81-48d4-de50-a917ec3da4b5"
   },
   "outputs": [
    {
     "data": {
      "text/html": [
       "<div>\n",
       "<style scoped>\n",
       "    .dataframe tbody tr th:only-of-type {\n",
       "        vertical-align: middle;\n",
       "    }\n",
       "\n",
       "    .dataframe tbody tr th {\n",
       "        vertical-align: top;\n",
       "    }\n",
       "\n",
       "    .dataframe thead th {\n",
       "        text-align: right;\n",
       "    }\n",
       "</style>\n",
       "<table border=\"1\" class=\"dataframe\">\n",
       "  <thead>\n",
       "    <tr style=\"text-align: right;\">\n",
       "      <th></th>\n",
       "      <th>order_id</th>\n",
       "      <th>order_date</th>\n",
       "      <th>headquarters_id</th>\n",
       "    </tr>\n",
       "  </thead>\n",
       "  <tbody>\n",
       "    <tr>\n",
       "      <th>0</th>\n",
       "      <td>0</td>\n",
       "      <td>2014-09-22</td>\n",
       "      <td>\"051\"</td>\n",
       "    </tr>\n",
       "    <tr>\n",
       "      <th>1</th>\n",
       "      <td>1</td>\n",
       "      <td>2010-08-10</td>\n",
       "      <td>\"061\"</td>\n",
       "    </tr>\n",
       "    <tr>\n",
       "      <th>2</th>\n",
       "      <td>2</td>\n",
       "      <td>2001-05-02</td>\n",
       "      <td>\"041\"</td>\n",
       "    </tr>\n",
       "    <tr>\n",
       "      <th>3</th>\n",
       "      <td>3</td>\n",
       "      <td>2015-12-17</td>\n",
       "      <td>\"071\"</td>\n",
       "    </tr>\n",
       "    <tr>\n",
       "      <th>4</th>\n",
       "      <td>4</td>\n",
       "      <td>2012-10-31</td>\n",
       "      <td>\"051\"</td>\n",
       "    </tr>\n",
       "  </tbody>\n",
       "</table>\n",
       "</div>"
      ],
      "text/plain": [
       "   order_id  order_date headquarters_id\n",
       "0         0  2014-09-22           \"051\"\n",
       "1         1  2010-08-10           \"061\"\n",
       "2         2  2001-05-02           \"041\"\n",
       "3         3  2015-12-17           \"071\"\n",
       "4         4  2012-10-31           \"051\""
      ]
     },
     "execution_count": 17,
     "metadata": {
      "tags": []
     },
     "output_type": "execute_result"
    }
   ],
   "source": [
    "orders['order_date'] = orders['order_date'].astype(str).str[:10]\n",
    "orders['order_date'] = pd.to_datetime(orders['order_date'], format = \"%Y/%m/%d\")\n",
    "orders['order_date'] = orders['order_date'].dt.date\n",
    "\n",
    "orders.head()"
   ]
  },
  {
   "cell_type": "code",
   "execution_count": 18,
   "metadata": {
    "colab": {
     "base_uri": "https://localhost:8080/",
     "height": 125
    },
    "colab_type": "code",
    "id": "olJcTW7bVu1n",
    "outputId": "0f0a8a14-d195-44a0-e625-c6c89a0f26e9"
   },
   "outputs": [
    {
     "name": "stdout",
     "output_type": "stream",
     "text": [
      "CREATE TABLE \"Order\" (\n",
      "\"index\" INTEGER,\n",
      "  \"order_id\" INTEGER,\n",
      "  \"order_date\" DATE,\n",
      "  \"headquarters_id\" TEXT\n",
      ")\n"
     ]
    }
   ],
   "source": [
    "print(pd.io.sql.get_schema(orders.reset_index(), 'Order'))"
   ]
  },
  {
   "cell_type": "code",
   "execution_count": null,
   "metadata": {
    "colab": {},
    "colab_type": "code",
    "id": "h6kU-qsjXJmW"
   },
   "outputs": [],
   "source": [
    "orders_schema = \"\"\"\n",
    "CREATE TABLE Orders (\n",
    "    \"order_id\" INTEGER,\n",
    "    \"order_date\" TIMESTAMP,\n",
    "    \"headquarters_id\" TEXT ,\n",
    "    PRIMARY KEY (order_id),\n",
    "    FOREIGN KEY (headquarters_id)\n",
    "        REFERENCES Headquarters(headquarters_id) \n",
    ");\n",
    "\"\"\""
   ]
  },
  {
   "cell_type": "markdown",
   "metadata": {
    "colab_type": "text",
    "id": "SrEIlD_uHSrL"
   },
   "source": [
    "\n",
    "\n",
    "---\n",
    "\n"
   ]
  },
  {
   "cell_type": "markdown",
   "metadata": {
    "colab_type": "text",
    "id": "hMeLLK7BWRTV"
   },
   "source": [
    "## Order Detail\n",
    "- Order Detail ID\n",
    "- Product ID\n",
    "- Order ID\n",
    "- Product Quantity"
   ]
  },
  {
   "cell_type": "code",
   "execution_count": null,
   "metadata": {
    "colab": {},
    "colab_type": "code",
    "id": "K2QG8qPYgF3y"
   },
   "outputs": [],
   "source": [
    "order_detail_ids = list(range(0, 10001))\n",
    "products = list(range(0, 301))\n",
    "product_ids = [np.random.choice(products) for i in range(len(order_detail_ids))] #200 product ID\n",
    "order_ids = list(range(0, 10001))\n",
    "product_quantity = [round(np.random.normal(50, 10, 1)[0]) for i in range(len(order_detail_ids))] # random normal distributions"
   ]
  },
  {
   "cell_type": "code",
   "execution_count": 21,
   "metadata": {
    "colab": {
     "base_uri": "https://localhost:8080/",
     "height": 204
    },
    "colab_type": "code",
    "id": "621l9TdRjbOO",
    "outputId": "74a759f2-23a3-4c2c-d893-892e9722112c"
   },
   "outputs": [
    {
     "data": {
      "text/html": [
       "<div>\n",
       "<style scoped>\n",
       "    .dataframe tbody tr th:only-of-type {\n",
       "        vertical-align: middle;\n",
       "    }\n",
       "\n",
       "    .dataframe tbody tr th {\n",
       "        vertical-align: top;\n",
       "    }\n",
       "\n",
       "    .dataframe thead th {\n",
       "        text-align: right;\n",
       "    }\n",
       "</style>\n",
       "<table border=\"1\" class=\"dataframe\">\n",
       "  <thead>\n",
       "    <tr style=\"text-align: right;\">\n",
       "      <th></th>\n",
       "      <th>order_detail_id</th>\n",
       "      <th>product_id</th>\n",
       "      <th>order_id</th>\n",
       "      <th>product_quantity</th>\n",
       "    </tr>\n",
       "  </thead>\n",
       "  <tbody>\n",
       "    <tr>\n",
       "      <th>0</th>\n",
       "      <td>0</td>\n",
       "      <td>143</td>\n",
       "      <td>0</td>\n",
       "      <td>67.0</td>\n",
       "    </tr>\n",
       "    <tr>\n",
       "      <th>1</th>\n",
       "      <td>1</td>\n",
       "      <td>123</td>\n",
       "      <td>1</td>\n",
       "      <td>44.0</td>\n",
       "    </tr>\n",
       "    <tr>\n",
       "      <th>2</th>\n",
       "      <td>2</td>\n",
       "      <td>70</td>\n",
       "      <td>2</td>\n",
       "      <td>39.0</td>\n",
       "    </tr>\n",
       "    <tr>\n",
       "      <th>3</th>\n",
       "      <td>3</td>\n",
       "      <td>174</td>\n",
       "      <td>3</td>\n",
       "      <td>47.0</td>\n",
       "    </tr>\n",
       "    <tr>\n",
       "      <th>4</th>\n",
       "      <td>4</td>\n",
       "      <td>54</td>\n",
       "      <td>4</td>\n",
       "      <td>42.0</td>\n",
       "    </tr>\n",
       "  </tbody>\n",
       "</table>\n",
       "</div>"
      ],
      "text/plain": [
       "   order_detail_id  product_id  order_id  product_quantity\n",
       "0                0         143         0              67.0\n",
       "1                1         123         1              44.0\n",
       "2                2          70         2              39.0\n",
       "3                3         174         3              47.0\n",
       "4                4          54         4              42.0"
      ]
     },
     "execution_count": 21,
     "metadata": {
      "tags": []
     },
     "output_type": "execute_result"
    }
   ],
   "source": [
    "order_details = pd.DataFrame({\n",
    "                       'order_detail_id': order_detail_ids,\n",
    "                       'product_id': product_ids,\n",
    "                       'order_id': order_ids,\n",
    "                       'product_quantity': product_quantity\n",
    "                      })\n",
    "order_details.head()"
   ]
  },
  {
   "cell_type": "code",
   "execution_count": 22,
   "metadata": {
    "colab": {
     "base_uri": "https://localhost:8080/",
     "height": 143
    },
    "colab_type": "code",
    "id": "DF5medr0Vxxw",
    "outputId": "bdb40d5b-7fe6-46c1-84d8-530bb8a3d056"
   },
   "outputs": [
    {
     "name": "stdout",
     "output_type": "stream",
     "text": [
      "CREATE TABLE \"Order Detail\" (\n",
      "\"index\" INTEGER,\n",
      "  \"order_detail_id\" INTEGER,\n",
      "  \"product_id\" INTEGER,\n",
      "  \"order_id\" INTEGER,\n",
      "  \"product_quantity\" REAL\n",
      ")\n"
     ]
    }
   ],
   "source": [
    "print(pd.io.sql.get_schema(order_details.reset_index(), 'Order Detail'))"
   ]
  },
  {
   "cell_type": "code",
   "execution_count": null,
   "metadata": {
    "colab": {},
    "colab_type": "code",
    "id": "YVXTmi_VXyQ_"
   },
   "outputs": [],
   "source": [
    "order_detail_schema = \"\"\"\n",
    "CREATE TABLE Order_Detail (\n",
    "    \"order_detail_id\" INTEGER ,\n",
    "    \"product_id\" INTEGER ,\n",
    "    \"order_id\" INTEGER,\n",
    "    \"product_quantity\" REAL,\n",
    "    PRIMARY KEY (order_detail_id),\n",
    "    FOREIGN KEY (product_id)\n",
    "        REFERENCES Product(product_id),\n",
    "    FOREIGN KEY (order_id)\n",
    "        REFERENCES Orders(order_id)\n",
    ");\n",
    "\"\"\""
   ]
  },
  {
   "cell_type": "markdown",
   "metadata": {
    "colab_type": "text",
    "id": "pEwSZ7WaHWp7"
   },
   "source": [
    "\n",
    "\n",
    "---\n",
    "\n"
   ]
  },
  {
   "cell_type": "markdown",
   "metadata": {
    "colab_type": "text",
    "id": "-pXQxPPjWMpS"
   },
   "source": [
    "## Product\n",
    "- Product id\n",
    "- Supplier ID"
   ]
  },
  {
   "cell_type": "code",
   "execution_count": null,
   "metadata": {
    "colab": {},
    "colab_type": "code",
    "id": "vZuR09b-1oTZ"
   },
   "outputs": [],
   "source": [
    "suppliers = list(range(0, 40))\n",
    "\n",
    "products = list(range(0, 301))\n",
    "supplier_ids = [str(np.random.choice(suppliers)) for i in range(len(products))]"
   ]
  },
  {
   "cell_type": "code",
   "execution_count": 25,
   "metadata": {
    "colab": {
     "base_uri": "https://localhost:8080/",
     "height": 204
    },
    "colab_type": "code",
    "id": "dftMfxQ02xaj",
    "outputId": "5218141c-400c-40c8-c342-fa519a1bd2d6"
   },
   "outputs": [
    {
     "data": {
      "text/html": [
       "<div>\n",
       "<style scoped>\n",
       "    .dataframe tbody tr th:only-of-type {\n",
       "        vertical-align: middle;\n",
       "    }\n",
       "\n",
       "    .dataframe tbody tr th {\n",
       "        vertical-align: top;\n",
       "    }\n",
       "\n",
       "    .dataframe thead th {\n",
       "        text-align: right;\n",
       "    }\n",
       "</style>\n",
       "<table border=\"1\" class=\"dataframe\">\n",
       "  <thead>\n",
       "    <tr style=\"text-align: right;\">\n",
       "      <th></th>\n",
       "      <th>product_id</th>\n",
       "      <th>supplier_id</th>\n",
       "    </tr>\n",
       "  </thead>\n",
       "  <tbody>\n",
       "    <tr>\n",
       "      <th>0</th>\n",
       "      <td>0</td>\n",
       "      <td>30</td>\n",
       "    </tr>\n",
       "    <tr>\n",
       "      <th>1</th>\n",
       "      <td>1</td>\n",
       "      <td>11</td>\n",
       "    </tr>\n",
       "    <tr>\n",
       "      <th>2</th>\n",
       "      <td>2</td>\n",
       "      <td>25</td>\n",
       "    </tr>\n",
       "    <tr>\n",
       "      <th>3</th>\n",
       "      <td>3</td>\n",
       "      <td>0</td>\n",
       "    </tr>\n",
       "    <tr>\n",
       "      <th>4</th>\n",
       "      <td>4</td>\n",
       "      <td>14</td>\n",
       "    </tr>\n",
       "  </tbody>\n",
       "</table>\n",
       "</div>"
      ],
      "text/plain": [
       "   product_id supplier_id\n",
       "0           0          30\n",
       "1           1          11\n",
       "2           2          25\n",
       "3           3           0\n",
       "4           4          14"
      ]
     },
     "execution_count": 25,
     "metadata": {
      "tags": []
     },
     "output_type": "execute_result"
    }
   ],
   "source": [
    "products = pd.DataFrame({\n",
    "                       'product_id': products,\n",
    "                       'supplier_id': supplier_ids,\n",
    "                      })\n",
    "products.head()"
   ]
  },
  {
   "cell_type": "code",
   "execution_count": 26,
   "metadata": {
    "colab": {
     "base_uri": "https://localhost:8080/",
     "height": 107
    },
    "colab_type": "code",
    "id": "FOb7V9P5Vytz",
    "outputId": "0bcae91d-f514-49fd-e2f2-7f08356c4184"
   },
   "outputs": [
    {
     "name": "stdout",
     "output_type": "stream",
     "text": [
      "CREATE TABLE \"Product\" (\n",
      "\"index\" INTEGER,\n",
      "  \"product_id\" INTEGER,\n",
      "  \"supplier_id\" TEXT\n",
      ")\n"
     ]
    }
   ],
   "source": [
    "print(pd.io.sql.get_schema(products.reset_index(), 'Product'))"
   ]
  },
  {
   "cell_type": "code",
   "execution_count": null,
   "metadata": {
    "colab": {},
    "colab_type": "code",
    "id": "ZF9384iuY6d5"
   },
   "outputs": [],
   "source": [
    "product_schema = \"\"\"\n",
    "CREATE TABLE Product (\n",
    "    \"product_id\" INTEGER,\n",
    "    \"supplier_id\" TEXT ,\n",
    "    PRIMARY KEY (product_id),\n",
    "    FOREIGN KEY (supplier_id)\n",
    "        REFERENCES Supplier(supplier_id) \n",
    ");\n",
    "\"\"\""
   ]
  },
  {
   "cell_type": "markdown",
   "metadata": {
    "colab_type": "text",
    "id": "uEfO3ozBHZgx"
   },
   "source": [
    "\n",
    "\n",
    "---\n",
    "\n"
   ]
  },
  {
   "cell_type": "markdown",
   "metadata": {
    "colab_type": "text",
    "id": "-AdiLeXwWDzR"
   },
   "source": [
    "## Order Detail Delivery\n",
    "- Delivery id\n",
    "- Order id\n",
    "- Order Detail ID"
   ]
  },
  {
   "cell_type": "code",
   "execution_count": null,
   "metadata": {
    "colab": {},
    "colab_type": "code",
    "id": "LZu9H9th4VJ3"
   },
   "outputs": [],
   "source": [
    "delivery_ids = list(range(0, 10001))\n",
    "order_ids = list(range(0, 10001))\n",
    "order_detail_ids = list(range(0, 10001))"
   ]
  },
  {
   "cell_type": "code",
   "execution_count": 29,
   "metadata": {
    "colab": {
     "base_uri": "https://localhost:8080/",
     "height": 204
    },
    "colab_type": "code",
    "id": "ehRx4SRF6ePj",
    "outputId": "f3c05950-61e4-4d8e-fcf9-879b27fb282c"
   },
   "outputs": [
    {
     "data": {
      "text/html": [
       "<div>\n",
       "<style scoped>\n",
       "    .dataframe tbody tr th:only-of-type {\n",
       "        vertical-align: middle;\n",
       "    }\n",
       "\n",
       "    .dataframe tbody tr th {\n",
       "        vertical-align: top;\n",
       "    }\n",
       "\n",
       "    .dataframe thead th {\n",
       "        text-align: right;\n",
       "    }\n",
       "</style>\n",
       "<table border=\"1\" class=\"dataframe\">\n",
       "  <thead>\n",
       "    <tr style=\"text-align: right;\">\n",
       "      <th></th>\n",
       "      <th>delivery_id</th>\n",
       "      <th>order_id</th>\n",
       "      <th>order_detail id</th>\n",
       "    </tr>\n",
       "  </thead>\n",
       "  <tbody>\n",
       "    <tr>\n",
       "      <th>0</th>\n",
       "      <td>0</td>\n",
       "      <td>0</td>\n",
       "      <td>0</td>\n",
       "    </tr>\n",
       "    <tr>\n",
       "      <th>1</th>\n",
       "      <td>1</td>\n",
       "      <td>1</td>\n",
       "      <td>1</td>\n",
       "    </tr>\n",
       "    <tr>\n",
       "      <th>2</th>\n",
       "      <td>2</td>\n",
       "      <td>2</td>\n",
       "      <td>2</td>\n",
       "    </tr>\n",
       "    <tr>\n",
       "      <th>3</th>\n",
       "      <td>3</td>\n",
       "      <td>3</td>\n",
       "      <td>3</td>\n",
       "    </tr>\n",
       "    <tr>\n",
       "      <th>4</th>\n",
       "      <td>4</td>\n",
       "      <td>4</td>\n",
       "      <td>4</td>\n",
       "    </tr>\n",
       "  </tbody>\n",
       "</table>\n",
       "</div>"
      ],
      "text/plain": [
       "   delivery_id  order_id  order_detail id\n",
       "0            0         0                0\n",
       "1            1         1                1\n",
       "2            2         2                2\n",
       "3            3         3                3\n",
       "4            4         4                4"
      ]
     },
     "execution_count": 29,
     "metadata": {
      "tags": []
     },
     "output_type": "execute_result"
    }
   ],
   "source": [
    "order_detail_delivery = pd.DataFrame({\n",
    "                       'delivery_id': delivery_ids,\n",
    "                       'order_id': order_ids,\n",
    "                       'order_detail id': order_detail_ids\n",
    "                      })\n",
    "order_detail_delivery.head()"
   ]
  },
  {
   "cell_type": "code",
   "execution_count": 30,
   "metadata": {
    "colab": {
     "base_uri": "https://localhost:8080/",
     "height": 181
    },
    "colab_type": "code",
    "id": "2YnxhSYoVzgJ",
    "outputId": "6e27eb45-d6bd-45f2-e534-687f493a1dc9"
   },
   "outputs": [
    {
     "name": "stdout",
     "output_type": "stream",
     "text": [
      "CREATE TABLE \"Order Detail Delivery\" (\n",
      "\"index\" INTEGER,\n",
      "  \"delivery_id\" INTEGER,\n",
      "  \"order_id\" INTEGER,\n",
      "  \"order_detail id\" INTEGER\n",
      ")\n"
     ]
    },
    {
     "name": "stderr",
     "output_type": "stream",
     "text": [
      "/usr/local/lib/python3.6/dist-packages/ipykernel_launcher.py:1: UserWarning: The spaces in these column names will not be changed. In pandas versions < 0.14, spaces were converted to underscores.\n",
      "  \"\"\"Entry point for launching an IPython kernel.\n"
     ]
    }
   ],
   "source": [
    "print(pd.io.sql.get_schema(order_detail_delivery.reset_index(), 'Order Detail Delivery'))"
   ]
  },
  {
   "cell_type": "code",
   "execution_count": null,
   "metadata": {
    "colab": {},
    "colab_type": "code",
    "id": "bGgz7hNQZdta"
   },
   "outputs": [],
   "source": [
    "order_detail_delivery_schema = \"\"\"\n",
    "CREATE TABLE Order_Detail_Delivery (\n",
    "    \"delivery_id\" INTEGER ,\n",
    "    \"order_id\" INTEGER ,\n",
    "    \"order_detail_id\" INTEGER,\n",
    "    PRIMARY KEY (order_detail_id),\n",
    "    FOREIGN KEY (delivery_id)\n",
    "        REFERENCES Delivery(delivery_id),\n",
    "    FOREIGN KEY (order_id)\n",
    "        REFERENCES Orders(order_id)\n",
    ");\n",
    "\"\"\""
   ]
  },
  {
   "cell_type": "markdown",
   "metadata": {
    "colab_type": "text",
    "id": "FUKYSy3IHcG7"
   },
   "source": [
    "\n",
    "\n",
    "---\n",
    "\n"
   ]
  },
  {
   "cell_type": "markdown",
   "metadata": {
    "colab_type": "text",
    "id": "PkkNTdRpV4Hc"
   },
   "source": [
    "## Delivery\n",
    "- Delivery ID\n",
    "- Delivery Date\n",
    "- Supplier ID"
   ]
  },
  {
   "cell_type": "code",
   "execution_count": null,
   "metadata": {
    "colab": {},
    "colab_type": "code",
    "id": "914z1_FT_FrJ"
   },
   "outputs": [],
   "source": [
    "delivery_ids = list(range(0, 10001))\n",
    "\n",
    "delivery_dates = orders['order_date']\\\n",
    "    .apply(lambda x:\\\n",
    "           x + timedelta(days= int(round(np.random.normal(10, 3, 1)[0]))))\n",
    "\n",
    "df = order_details.set_index('product_id').join(products.set_index('product_id'))\n",
    "df = df.sort_values(by = 'order_id')\n",
    "\n",
    "supplier_ids = df['supplier_id'].tolist()"
   ]
  },
  {
   "cell_type": "code",
   "execution_count": 33,
   "metadata": {
    "colab": {
     "base_uri": "https://localhost:8080/",
     "height": 204
    },
    "colab_type": "code",
    "id": "4KhRw8J6Dh7f",
    "outputId": "12a23306-93f5-4ad4-d7cf-a3a5ad237ddc"
   },
   "outputs": [
    {
     "data": {
      "text/html": [
       "<div>\n",
       "<style scoped>\n",
       "    .dataframe tbody tr th:only-of-type {\n",
       "        vertical-align: middle;\n",
       "    }\n",
       "\n",
       "    .dataframe tbody tr th {\n",
       "        vertical-align: top;\n",
       "    }\n",
       "\n",
       "    .dataframe thead th {\n",
       "        text-align: right;\n",
       "    }\n",
       "</style>\n",
       "<table border=\"1\" class=\"dataframe\">\n",
       "  <thead>\n",
       "    <tr style=\"text-align: right;\">\n",
       "      <th></th>\n",
       "      <th>delivery_id</th>\n",
       "      <th>delivery_date</th>\n",
       "      <th>supplier_id</th>\n",
       "    </tr>\n",
       "  </thead>\n",
       "  <tbody>\n",
       "    <tr>\n",
       "      <th>0</th>\n",
       "      <td>0</td>\n",
       "      <td>2014-09-29</td>\n",
       "      <td>35</td>\n",
       "    </tr>\n",
       "    <tr>\n",
       "      <th>1</th>\n",
       "      <td>1</td>\n",
       "      <td>2010-08-19</td>\n",
       "      <td>14</td>\n",
       "    </tr>\n",
       "    <tr>\n",
       "      <th>2</th>\n",
       "      <td>2</td>\n",
       "      <td>2001-05-08</td>\n",
       "      <td>17</td>\n",
       "    </tr>\n",
       "    <tr>\n",
       "      <th>3</th>\n",
       "      <td>3</td>\n",
       "      <td>2015-12-30</td>\n",
       "      <td>18</td>\n",
       "    </tr>\n",
       "    <tr>\n",
       "      <th>4</th>\n",
       "      <td>4</td>\n",
       "      <td>2012-11-10</td>\n",
       "      <td>24</td>\n",
       "    </tr>\n",
       "  </tbody>\n",
       "</table>\n",
       "</div>"
      ],
      "text/plain": [
       "   delivery_id delivery_date supplier_id\n",
       "0            0    2014-09-29          35\n",
       "1            1    2010-08-19          14\n",
       "2            2    2001-05-08          17\n",
       "3            3    2015-12-30          18\n",
       "4            4    2012-11-10          24"
      ]
     },
     "execution_count": 33,
     "metadata": {
      "tags": []
     },
     "output_type": "execute_result"
    }
   ],
   "source": [
    "delivery = pd.DataFrame({\n",
    "                       'delivery_id': delivery_ids,\n",
    "                       'delivery_date': delivery_dates,\n",
    "                       'supplier_id': supplier_ids\n",
    "                      })\n",
    "\n",
    "delivery['delivery_date'] = delivery['delivery_date'].astype(str).str[:10]\n",
    "delivery['delivery_date'] = pd.to_datetime(delivery['delivery_date'], format = \"%Y/%m/%d\")\n",
    "delivery['delivery_date'] = delivery['delivery_date'].dt.date\n",
    "\n",
    "delivery.head()"
   ]
  },
  {
   "cell_type": "code",
   "execution_count": 34,
   "metadata": {
    "colab": {
     "base_uri": "https://localhost:8080/",
     "height": 125
    },
    "colab_type": "code",
    "id": "2E25X4q3V0Zl",
    "outputId": "e1661d3d-c81a-4c9a-f23b-ba2560ce367a"
   },
   "outputs": [
    {
     "name": "stdout",
     "output_type": "stream",
     "text": [
      "CREATE TABLE \"Delivery\" (\n",
      "\"index\" INTEGER,\n",
      "  \"delivery_id\" INTEGER,\n",
      "  \"delivery_date\" DATE,\n",
      "  \"supplier_id\" TEXT\n",
      ")\n"
     ]
    }
   ],
   "source": [
    "print(pd.io.sql.get_schema(delivery.reset_index(), 'Delivery'))"
   ]
  },
  {
   "cell_type": "code",
   "execution_count": null,
   "metadata": {
    "colab": {},
    "colab_type": "code",
    "id": "FyURUen2aBhx"
   },
   "outputs": [],
   "source": [
    "delivery_schema = \"\"\"\n",
    "CREATE TABLE Delivery (\n",
    "    \"delivery_id\" INTEGER,\n",
    "    \"delivery_date\" TIMESTAMP,\n",
    "    \"supplier_id\" TEXT,\n",
    "    PRIMARY KEY (delivery_id),\n",
    "    FOREIGN KEY (supplier_id)\n",
    "        REFERENCES Supplier(supplier_id)\n",
    ");\n",
    "\"\"\""
   ]
  },
  {
   "cell_type": "markdown",
   "metadata": {
    "colab_type": "text",
    "id": "tJ3iqGOAHfAO"
   },
   "source": [
    "\n",
    "\n",
    "---\n",
    "\n"
   ]
  },
  {
   "cell_type": "markdown",
   "metadata": {
    "colab_type": "text",
    "id": "NwtmuZBYHfMd"
   },
   "source": [
    "## Supplier\n",
    "- Delivery ID\n",
    "- Delivery Date\n",
    "- Supplier ID"
   ]
  },
  {
   "cell_type": "code",
   "execution_count": 36,
   "metadata": {
    "colab": {
     "base_uri": "https://localhost:8080/",
     "height": 204
    },
    "colab_type": "code",
    "id": "xhE5tILkHNXR",
    "outputId": "3120f813-bcce-4f66-a0b1-23ef2c66f3ef"
   },
   "outputs": [
    {
     "data": {
      "text/html": [
       "<div>\n",
       "<style scoped>\n",
       "    .dataframe tbody tr th:only-of-type {\n",
       "        vertical-align: middle;\n",
       "    }\n",
       "\n",
       "    .dataframe tbody tr th {\n",
       "        vertical-align: top;\n",
       "    }\n",
       "\n",
       "    .dataframe thead th {\n",
       "        text-align: right;\n",
       "    }\n",
       "</style>\n",
       "<table border=\"1\" class=\"dataframe\">\n",
       "  <thead>\n",
       "    <tr style=\"text-align: right;\">\n",
       "      <th></th>\n",
       "      <th>supplier_id</th>\n",
       "      <th>location</th>\n",
       "    </tr>\n",
       "  </thead>\n",
       "  <tbody>\n",
       "    <tr>\n",
       "      <th>14</th>\n",
       "      <td>0</td>\n",
       "      <td>\"New_York\"</td>\n",
       "    </tr>\n",
       "    <tr>\n",
       "      <th>33</th>\n",
       "      <td>1</td>\n",
       "      <td>\"Atlanta\"</td>\n",
       "    </tr>\n",
       "    <tr>\n",
       "      <th>17</th>\n",
       "      <td>10</td>\n",
       "      <td>\"Denver\"</td>\n",
       "    </tr>\n",
       "    <tr>\n",
       "      <th>6</th>\n",
       "      <td>11</td>\n",
       "      <td>\"Dallas\"</td>\n",
       "    </tr>\n",
       "    <tr>\n",
       "      <th>31</th>\n",
       "      <td>12</td>\n",
       "      <td>\"Atlanta\"</td>\n",
       "    </tr>\n",
       "  </tbody>\n",
       "</table>\n",
       "</div>"
      ],
      "text/plain": [
       "   supplier_id    location\n",
       "14           0  \"New_York\"\n",
       "33           1   \"Atlanta\"\n",
       "17          10    \"Denver\"\n",
       "6           11    \"Dallas\"\n",
       "31          12   \"Atlanta\""
      ]
     },
     "execution_count": 36,
     "metadata": {
      "tags": []
     },
     "output_type": "execute_result"
    }
   ],
   "source": [
    "suppliers = list(set(delivery['supplier_id'].tolist()))\n",
    "supplier_locations = [np.random.choice(headquarters_city) for i in range(len(suppliers))]\n",
    "\n",
    "supplier = pd.DataFrame({'supplier_id': suppliers,\n",
    "                         'location': supplier_locations})\n",
    "\n",
    "supplier = supplier.sort_values(by = 'supplier_id')\n",
    "supplier.head()"
   ]
  },
  {
   "cell_type": "code",
   "execution_count": 37,
   "metadata": {
    "colab": {
     "base_uri": "https://localhost:8080/",
     "height": 107
    },
    "colab_type": "code",
    "id": "Dn2knBQ0IIDH",
    "outputId": "c3db4de8-bc5e-4b1c-8958-24282fdb8602"
   },
   "outputs": [
    {
     "name": "stdout",
     "output_type": "stream",
     "text": [
      "CREATE TABLE \"Supplier\" (\n",
      "\"index\" INTEGER,\n",
      "  \"supplier_id\" TEXT,\n",
      "  \"location\" TEXT\n",
      ")\n"
     ]
    }
   ],
   "source": [
    "print(pd.io.sql.get_schema(supplier.reset_index(), 'Supplier'))"
   ]
  },
  {
   "cell_type": "code",
   "execution_count": null,
   "metadata": {
    "colab": {},
    "colab_type": "code",
    "id": "c3o0d8xyagj8"
   },
   "outputs": [],
   "source": [
    "supplier_schema = \"\"\"\n",
    "CREATE TABLE Supplier (\n",
    "    \"supplier_id\" TEXT,\n",
    "    \"location\" TEXT,\n",
    "    PRIMARY KEY (supplier_id)\n",
    ");\n",
    "\"\"\""
   ]
  },
  {
   "cell_type": "markdown",
   "metadata": {
    "colab_type": "text",
    "id": "n1GthDxRbVDo"
   },
   "source": [
    "\n",
    "\n",
    "---\n",
    "\n"
   ]
  },
  {
   "cell_type": "markdown",
   "metadata": {
    "colab_type": "text",
    "id": "7ebae96ZbVpk"
   },
   "source": [
    "# Execute DB Creation"
   ]
  },
  {
   "cell_type": "code",
   "execution_count": 39,
   "metadata": {
    "colab": {
     "base_uri": "https://localhost:8080/",
     "height": 1000
    },
    "colab_type": "code",
    "id": "n7dMFcqtbiEl",
    "outputId": "1216ecd5-6473-4cc3-c8d7-10271faf957f"
   },
   "outputs": [
    {
     "name": "stdout",
     "output_type": "stream",
     "text": [
      "\n",
      "CREATE TABLE Branch (\n",
      "    \"branch_id\" TEXT,\n",
      "    \"location\" TEXT,\n",
      "    PRIMARY KEY (branch_id)\n",
      ");\n",
      "\n",
      "Branch  Done\n",
      "\n",
      "CREATE TABLE Headquarters (\n",
      "    \"headquarters_id\" TEXT,\n",
      "    \"headquarters_city\" TEXT,\n",
      "    \"branch_id\" TEXT ,\n",
      "    PRIMARY KEY (headquarters_id),\n",
      "    FOREIGN KEY (branch_id)\n",
      "        REFERENCES Branch (branch_id)\n",
      ");\n",
      "\n",
      "Headquarters  Done\n",
      "\n",
      "CREATE TABLE Orders (\n",
      "    \"order_id\" INTEGER,\n",
      "    \"order_date\" TIMESTAMP,\n",
      "    \"headquarters_id\" TEXT ,\n",
      "    PRIMARY KEY (order_id),\n",
      "    FOREIGN KEY (headquarters_id)\n",
      "        REFERENCES Headquarters(headquarters_id) \n",
      ");\n",
      "\n",
      "Orders  Done\n",
      "\n",
      "CREATE TABLE Order_Detail (\n",
      "    \"order_detail_id\" INTEGER ,\n",
      "    \"product_id\" INTEGER ,\n",
      "    \"order_id\" INTEGER,\n",
      "    \"product_quantity\" REAL,\n",
      "    PRIMARY KEY (order_detail_id),\n",
      "    FOREIGN KEY (product_id)\n",
      "        REFERENCES Product(product_id),\n",
      "    FOREIGN KEY (order_id)\n",
      "        REFERENCES Orders(order_id)\n",
      ");\n",
      "\n",
      "Order_Detail  Done\n",
      "\n",
      "CREATE TABLE Product (\n",
      "    \"product_id\" INTEGER,\n",
      "    \"supplier_id\" TEXT ,\n",
      "    PRIMARY KEY (product_id),\n",
      "    FOREIGN KEY (supplier_id)\n",
      "        REFERENCES Supplier(supplier_id) \n",
      ");\n",
      "\n",
      "Product  Done\n",
      "\n",
      "CREATE TABLE Order_Detail_Delivery (\n",
      "    \"delivery_id\" INTEGER ,\n",
      "    \"order_id\" INTEGER ,\n",
      "    \"order_detail_id\" INTEGER,\n",
      "    PRIMARY KEY (order_detail_id),\n",
      "    FOREIGN KEY (delivery_id)\n",
      "        REFERENCES Delivery(delivery_id),\n",
      "    FOREIGN KEY (order_id)\n",
      "        REFERENCES Orders(order_id)\n",
      ");\n",
      "\n",
      "Order_Detail_Delivery  Done\n",
      "\n",
      "CREATE TABLE Delivery (\n",
      "    \"delivery_id\" INTEGER,\n",
      "    \"delivery_date\" TIMESTAMP,\n",
      "    \"supplier_id\" TEXT,\n",
      "    PRIMARY KEY (delivery_id),\n",
      "    FOREIGN KEY (supplier_id)\n",
      "        REFERENCES Supplier(supplier_id)\n",
      ");\n",
      "\n",
      "Delivery  Done\n",
      "\n",
      "CREATE TABLE Supplier (\n",
      "    \"supplier_id\" TEXT,\n",
      "    \"location\" TEXT,\n",
      "    PRIMARY KEY (supplier_id)\n",
      ");\n",
      "\n",
      "Supplier  Done\n"
     ]
    }
   ],
   "source": [
    "dataframe_list = [branch, headquarters, orders, order_details, products,\n",
    "                  order_detail_delivery, delivery, supplier]\n",
    "\n",
    "table_names = ['Branch', 'Headquarters', 'Orders', 'Order_Detail', 'Product',\n",
    "               'Order_Detail_Delivery', 'Delivery', 'Supplier']\n",
    "\n",
    "schemas = [branch_schema, headquarters_schema, orders_schema,\n",
    "           order_detail_schema, product_schema, order_detail_delivery_schema,\n",
    "           delivery_schema, supplier_schema]\n",
    "\n",
    "for i in range(len(table_names)):\n",
    "    print(schemas[i])\n",
    "    helper = Sqllite_helper()\n",
    "    helper.create_table(schemas[i], dataframe_list[i], table_names[i])\n",
    "    print(table_names[i], ' Done')"
   ]
  },
  {
   "cell_type": "code",
   "execution_count": null,
   "metadata": {
    "colab": {},
    "colab_type": "code",
    "id": "nH9_i031LooQ"
   },
   "outputs": [],
   "source": []
  }
 ],
 "metadata": {
  "colab": {
   "collapsed_sections": [
    "EmXYvU-wWsB4",
    "XqAbq2bRWlpS",
    "Jzyau9u7WdVF",
    "hMeLLK7BWRTV",
    "-pXQxPPjWMpS",
    "-AdiLeXwWDzR",
    "PkkNTdRpV4Hc",
    "NwtmuZBYHfMd"
   ],
   "include_colab_link": true,
   "name": "Lambda School SQL Create DB.ipynb",
   "provenance": []
  },
  "kernelspec": {
   "display_name": "Python 3",
   "language": "python",
   "name": "python3"
  },
  "language_info": {
   "codemirror_mode": {
    "name": "ipython",
    "version": 3
   },
   "file_extension": ".py",
   "mimetype": "text/x-python",
   "name": "python",
   "nbconvert_exporter": "python",
   "pygments_lexer": "ipython3",
   "version": "3.7.3"
  }
 },
 "nbformat": 4,
 "nbformat_minor": 4
}
